{
 "cells": [
  {
   "cell_type": "code",
   "execution_count": null,
   "id": "d14263ec-7629-4819-aed0-66d8e0767a20",
   "metadata": {
    "tags": []
   },
   "outputs": [],
   "source": [
    "# This Python 3 environment comes with many helpful analytics libraries installed\n",
    "# It is defined by the kaggle/python Docker image: https://github.com/kaggle/docker-python\n",
    "\n",
    "\n",
    "# Input data files are available in the read-only \"../input/\" directory\n",
    "# For example, running this (by clicking run or pressing Shift+Enter) will list all files under the input directory\n",
    "\n",
    "import os  # Import the os module for interacting with the operating system\n",
    "\n",
    "print(\"List all files under the input directory:\\n\")\n",
    "# Use os.walk to iterate over all directories and files within '/kaggle/input'\n",
    "for dirname, _, filenames in os.walk('/Users/mohamedelzeini/Jupyter Lab'):\n",
    "    for filename in filenames:\n",
    "        print(os.path.join(dirname, filename))"
   ]
  },
  {
   "cell_type": "code",
   "execution_count": null,
   "id": "e0a8f789-97ae-4b28-aa8f-7b9ee2012ef7",
   "metadata": {
    "tags": []
   },
   "outputs": [],
   "source": [
    "import pandas as pd # Import the pandas library and assign it the alias pd\n",
    "\n",
    "\n",
    "# Read the CSV file\n",
    "# The CSV file is read using pd.read_csv() and stored in the DataFrame df.\n",
    "df = pd.read_csv('/Users/mohamedelzeini/Jupyter Lab/The Impacts of Working Remotely and in an Office Survey.csv')\n",
    "\n",
    "\n",
    "# Print the column names of the DataFrame\n",
    "print(\"Column names in the DataFrame:\")\n",
    "for column in df.columns:\n",
    "    print(column)"
   ]
  },
  {
   "cell_type": "code",
   "execution_count": null,
   "id": "a4d527d6-7425-42ec-a0a9-fda3ded1a60a",
   "metadata": {
    "tags": []
   },
   "outputs": [],
   "source": [
    "import pandas as pd # Import the pandas library and assign it the alias pd\n",
    "from IPython.display import display # Importing the display function to show data in Jupyter notebooks\n",
    "\n",
    "# Ensure df is available from the previous cell\n",
    "# Display the entire dataset\n",
    "print(\"Entire Dataset:\")\n",
    "display(df)"
   ]
  },
  {
   "cell_type": "code",
   "execution_count": null,
   "id": "5a98c1a9-0bb5-4e97-8bc1-da9303b2f570",
   "metadata": {
    "tags": []
   },
   "outputs": [],
   "source": [
    "import pandas as pd  # Import the pandas library and assign it the alias pd\n",
    "\n",
    "# Read the CSV file\n",
    "# The CSV file is read using pd.read_csv() and stored in the DataFrame df.\n",
    "df = pd.read_csv('/Users/mohamedelzeini/Jupyter Lab/The Impacts of Working Remotely and in an Office Survey.csv')\n",
    "\n",
    "# Info on DataFrame\n",
    "print(\"Info on DataFrame:\\n\")\n",
    "df.info()"
   ]
  },
  {
   "cell_type": "code",
   "execution_count": null,
   "id": "ffdb9e62-fe35-43e1-bf54-0cfd9e8c00bd",
   "metadata": {
    "tags": []
   },
   "outputs": [],
   "source": [
    "import pandas as pd  # Import the pandas library and assign it the alias pd\n",
    "\n",
    "# Read the CSV file\n",
    "# The CSV file is read using pd.read_csv() and stored in the DataFrame df.\n",
    "df = pd.read_csv('/Users/mohamedelzeini/Jupyter Lab/The Impacts of Working Remotely and in an Office Survey.csv')\n",
    "\n",
    "# Exclude the first column (ID column)\n",
    "df = df.iloc[:, 1:]\n",
    "\n",
    "# Function to get and print the description for each column\n",
    "def describe_columns(df):\n",
    "    for column in df.columns:\n",
    "        print(f\"Summary statistics for '{column}':\")\n",
    "        print(df[column].describe())\n",
    "        print(\"\\n\")\n",
    "\n",
    "# Get and print summary statistics for each column\n",
    "print(\"Summary statistics for each column:\\n\")\n",
    "describe_columns(df)"
   ]
  },
  {
   "cell_type": "code",
   "execution_count": null,
   "id": "054b8b2d-f92e-44e7-a272-33c2e4447266",
   "metadata": {
    "tags": []
   },
   "outputs": [],
   "source": [
    "import pandas as pd  # Import the pandas library and assign it the alias pd\n",
    "\n",
    "# Read the CSV file\n",
    "# The CSV file is read using pd.read_csv() and stored in the DataFrame df.\n",
    "df = pd.read_csv('/Users/mohamedelzeini/Jupyter Lab/The Impacts of Working Remotely and in an Office Survey.csv')\n",
    "\n",
    "# Exclude the first column (ID column)\n",
    "df = df.iloc[:, 1:]\n",
    "\n",
    "print(\"Display frequency counts for categorical variables:\\n\")\n",
    "\n",
    "# Function to display frequency counts for categorical variables\n",
    "def frequency_counts(df):\n",
    "    for column in df.columns:\n",
    "        print(f\"Frequency counts for '{column}':\")\n",
    "        print(df[column].value_counts())\n",
    "        print(\"\\n\")\n",
    "\n",
    "# Display frequency counts for all columns\n",
    "frequency_counts(df)\n",
    "\n",
    "# List of column pairs for cross-tabulation\n",
    "column_pairs = [\n",
    "    ('Which work type do you prefer the most?', 'Have you ever experienced working from home?'),\n",
    "    ('Which work type do you prefer the most?', 'Do you think that working from home increases your work productivity?'),\n",
    "    ('Which work type do you prefer the most?', 'Do you think that working from home prevents you from going out?'),\n",
    "    ('Which work type do you prefer the most?', 'Do you think that working from home gives you more flexibility?'),\n",
    "    ('Which work type do you prefer the most?', 'Do you think that working from home saves you more time?'),\n",
    "    ('Which work type do you prefer the most?', 'Which work type has the potential to cause you physical problems, such as the neck, back, and leg pain?'),\n",
    "    ('Which work type do you prefer the most?', 'Which work type has the potential to cause mental disorders, such as stress, anxiety, and depression?'),\n",
    "    ('Which work type do you prefer the most?', 'Do you think that working from home prevents you from getting in contact with people?'),\n",
    "    ('Which work type do you prefer the most?', 'Which work type keeps you focused while working?')\n",
    "]\n",
    "\n",
    "# Function to display cross-tabulations\n",
    "def cross_tabulations(df, column_pairs):\n",
    "    for col1, col2 in column_pairs:\n",
    "        crosstab = pd.crosstab(df[col1], df[col2])\n",
    "        print(f\"\\nCross-tabulation: {col1} and {col2}\")\n",
    "        print(crosstab)\n",
    "        print(\"\\n\")\n",
    "\n",
    "# Display cross-tabulations for all column pairs\n",
    "cross_tabulations(df, column_pairs)"
   ]
  },
  {
   "cell_type": "code",
   "execution_count": null,
   "id": "34cf6a58-7f26-4d15-bff1-9e3224d95b09",
   "metadata": {
    "tags": []
   },
   "outputs": [],
   "source": [
    "import pandas as pd  # Import the pandas library and assign it the alias pd\n",
    "import matplotlib.pyplot as plt  # Import the pyplot module from the matplotlib library and assign it the alias plt\n",
    "\n",
    "# Read the CSV file\n",
    "# The CSV file is read using pd.read_csv() and stored in the DataFrame df.\n",
    "df = pd.read_csv('/Users/mohamedelzeini/Jupyter Lab/The Impacts of Working Remotely and in an Office Survey.csv')\n",
    "\n",
    "print(\"Plotting a bar chart for each question:\\n\")\n",
    "\n",
    "# Select the columns with varied responses\n",
    "# The variable response_column is set to the column names.\n",
    "response_columns = ['Have you ever experienced working from home?',\n",
    "                    'Do you think that working from home increases your work productivity?',\n",
    "                    'Do you think that working from home prevents you from going out?',\n",
    "                    'Do you think that working from home gives you more flexibility?',\n",
    "                    'Do you think that working from home saves you more time?',\n",
    "                    'Which work type has the potential to cause you physical problems, such as the neck, back, and leg pain?',\n",
    "                    'Which work type has the potential to cause mental disorders, such as stress, anxiety, and depression?',\n",
    "                    'Do you think that working from home prevents you from getting in contact with people?',\n",
    "                    'Which work type keeps you focused while working?',\n",
    "                    'Which work type do you prefer the most?']\n",
    "\n",
    "# Plotting a bar chart for each question\n",
    "for column in response_columns:\n",
    "    # Filter the column for yes and no responses\n",
    "    filtered_df = df[df[column].isin(['Yes', 'No', 'Working from home', 'Working in an office', 'A mixed mode of working'])]\n",
    "\n",
    "    # Count the number of each response\n",
    "    response_counts = filtered_df[column].value_counts()\n",
    "    \n",
    "    # Plot the bar chart\n",
    "    plt.bar(response_counts.index, response_counts.values, color=['blue', 'orange'])\n",
    "    plt.xlabel('Responses')\n",
    "    plt.ylabel('Count')\n",
    "    plt.title(f'Distribution of Responses: {column}')\n",
    "    plt.show()\n",
    "    \n",
    "    # Plot the pie chart\n",
    "    plt.pie(response_counts.values, labels=response_counts.index, autopct='%1.1f%%', colors=['blue', 'orange'])\n",
    "    plt.title(f'Distribution of Responses: {column}')\n",
    "    plt.axis('equal')\n",
    "    plt.show()"
   ]
  },
  {
   "cell_type": "code",
   "execution_count": null,
   "id": "0480a5fb-44c1-49c0-ad14-c9f4b4478677",
   "metadata": {},
   "outputs": [],
   "source": []
  }
 ],
 "metadata": {
  "kernelspec": {
   "display_name": "Python 3 (ipykernel)",
   "language": "python",
   "name": "python3"
  },
  "language_info": {
   "codemirror_mode": {
    "name": "ipython",
    "version": 3
   },
   "file_extension": ".py",
   "mimetype": "text/x-python",
   "name": "python",
   "nbconvert_exporter": "python",
   "pygments_lexer": "ipython3",
   "version": "3.11.5"
  }
 },
 "nbformat": 4,
 "nbformat_minor": 5
}
